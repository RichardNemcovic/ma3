{
 "cells": [
  {
   "cell_type": "markdown",
   "metadata": {},
   "source": [
    "**AI & Machine Learning (KAN-CINTO4003U) - Copenhagen Business School | Spring 2025**\n",
    "\n",
    "***"
   ]
  },
  {
   "cell_type": "code",
   "execution_count": null,
   "metadata": {},
   "outputs": [],
   "source": []
  },
  {
   "cell_type": "markdown",
   "metadata": {},
   "source": [
    "# Part II: Agents\n",
    "\n",
    "Please see the description of the assignment in the README file (section 1) <br>\n",
    "**Guide notebooks**: [guides/router_agents_guide.ipynb](guides/agents_guide.ipynb) and [guides/tool_agents_guide.ipynb](guides/tool_agents_guide.ipynb)\n",
    "\n",
    "\n",
    "***\n",
    "<br>\n",
    "\n",
    "* Play around with the agent systems in the guides. Maybe try to create a similar system with new nodes? Or you can try to add new tools to the existing tool-using agent system.\n",
    "\n",
    "* Remember to include some reflections on your results. Are there, for example, any hyperparameters that are particularly important?\n",
    "\n",
    "* You should follow the steps given in the `router_agents_guide` notebook or the `tool_agents_guide` notebook to create your own agent system - or try to optimize the existing ones.\n",
    "\n",
    "<br>\n",
    "\n",
    "***"
   ]
  },
  {
   "cell_type": "markdown",
   "metadata": {},
   "source": [
    "## Imports"
   ]
  },
  {
   "cell_type": "code",
   "execution_count": 25,
   "metadata": {},
   "outputs": [],
   "source": [
    "#Import\n",
    "import os\n",
    "import requests\n",
    "import streamlit as st\n",
    "from decouple import config\n",
    "\n",
    "# LangChain / LangGraph imports\n",
    "from langchain_core.tools import tool\n",
    "from langgraph.prebuilt import create_react_agent\n",
    "from langchain_ibm import ChatWatsonx"
   ]
  },
  {
   "cell_type": "markdown",
   "metadata": {},
   "source": [
    "## Call the API"
   ]
  },
  {
   "cell_type": "code",
   "execution_count": null,
   "metadata": {},
   "outputs": [],
   "source": [
    "# Load API keys from .env or environment\n",
    "WX_API_KEY = config(\"WX_API_KEY\")\n",
    "WX_PROJECT_ID = config(\"WX_PROJECT_ID\")\n",
    "WX_API_URL = \"https://us-south.ml.cloud.ibm.com\"\n",
    "os.environ[\"OPENWEATHERMAP_API_KEY\"] = config(\"OPENWEATHERMAP_API_KEY\")\n",
    "\n"
   ]
  },
  {
   "cell_type": "markdown",
   "metadata": {},
   "source": [
    "## Creating the weather tool"
   ]
  },
  {
   "cell_type": "code",
   "execution_count": null,
   "metadata": {},
   "outputs": [],
   "source": [
    "@tool\n",
    "def get_current_weather(city: str = \"Copenhagen\", units: str = \"metric\"):\n",
    "    \"\"\"\n",
    "    Retrieves the current weather data for a specified city.\n",
    "    \"\"\"\n",
    "    api_key = os.environ.get(\"OPENWEATHERMAP_API_KEY\")\n",
    "\n",
    "    response = requests.get(\n",
    "        \"http://api.openweathermap.org/data/2.5/weather\",\n",
    "        params={\n",
    "            \"q\": city,\n",
    "            \"appid\": api_key,\n",
    "            \"units\": units\n",
    "        }\n",
    "    )\n",
    "\n",
    "    data = response.json()\n",
    "\n",
    "    if response.status_code != 200 or \"main\" not in data:\n",
    "        return {\n",
    "            \"error\": f\"Unable to retrieve weather for {city}\",\n",
    "            \"details\": data.get(\"message\", \"No additional information available.\")\n",
    "        }\n",
    "\n",
    "    return {\n",
    "        \"city\": data.get(\"name\", city),\n",
    "        \"temperature\": data[\"main\"][\"temp\"],\n",
    "        \"weather\": data[\"weather\"][0][\"main\"],\n",
    "        \"humidity\": data[\"main\"][\"humidity\"],\n",
    "        \"wind_speed\": data[\"wind\"][\"speed\"],\n",
    "        \"forecast\": data[\"weather\"][0][\"description\"],\n",
    "        \"icon\": data[\"weather\"][0][\"icon\"],\n",
    "        \"weather_tomorrow\": data[\"main\"][\"temp_max\"],\n",
    "        \"weather_yesterday\": data[\"main\"][\"temp_min\"],\n",
    "        \"rain\": data.get(\"rain\", {}).get(\"1h\", 0),\n",
    "        \"snow\": data.get(\"snow\", {}).get(\"1h\", 0),\n",
    "    }\n",
    "\n",
    "\n",
    "# Create the WatsonX LLM\n",
    "chat_model = ChatWatsonx(\n",
    "    url=WX_API_URL,\n",
    "    apikey=WX_API_KEY,\n",
    "    project_id=WX_PROJECT_ID,\n",
    "    model_id=\"mistralai/mistral-large\",\n",
    ")\n"
   ]
  },
  {
   "cell_type": "code",
   "execution_count": null,
   "metadata": {},
   "outputs": [
    {
     "name": "stdout",
     "output_type": "stream",
     "text": [
      " In Aarhus now is:\n",
      "A temperature of 10.37°C with partly cloudy, a humidity of 90% and a wind speed of 2.5km/h.\n",
      "Yesterday the temperature was 9.22°C and tomorrow it will be 11.12°C.\n"
     ]
    }
   ],
   "source": [
    "# Define tool list\n",
    "tools = [get_current_weather]\n",
    "\n",
    "# Build the agent\n",
    "# We turned the debug flag off to avoid printing the entire conversation in the console.\n",
    "graph = create_react_agent(chat_model, tools=tools, debug=False)\n",
    "\n",
    "# Ask a question\n",
    "response = graph.invoke(\n",
    "    {\n",
    "        \n",
    "        \"messages\": [\n",
    "            (\"user\", \"Whats the weather in Aarhus?\"),\n",
    "        ]\n",
    "    },\n",
    "    debug=False\n",
    ")\n",
    "\n",
    "# Print the final AI message\n",
    "print(response[\"messages\"][-1].content)"
   ]
  }
 ],
 "metadata": {
  "kernelspec": {
   "display_name": "aiml25-ma3",
   "language": "python",
   "name": "python3"
  },
  "language_info": {
   "codemirror_mode": {
    "name": "ipython",
    "version": 3
   },
   "file_extension": ".py",
   "mimetype": "text/x-python",
   "name": "python",
   "nbconvert_exporter": "python",
   "pygments_lexer": "ipython3",
   "version": "3.11.12"
  }
 },
 "nbformat": 4,
 "nbformat_minor": 2
}
